{
 "cells": [
  {
   "cell_type": "markdown",
   "metadata": {},
   "source": [
    "# 1. Micro and Array Update\n",
    "\n",
    "Micro purchased an array A having Integer values. After playing it for a while, he got bored of it and decided to update value of its element. In one second he can increase value of each array element by 1. He wants each array element value to become greater than or equal to K. Please help Micro to find out the minimum amount of time it will take, for him to do so.\n",
    "\n",
    "Input:\n",
    "First line consists of a single integer, T, denoting the number of test cases.\n",
    "First line of each test case consists of two space separated integers denoting N and K.\n",
    "Second line of each test case consists of N space separated integers denoting the array A.\n",
    "\n",
    "Output:\n",
    "For each test case, print the minimum time in which all array elements will become greater than or equal to K. Print a new line after each test case."
   ]
  },
  {
   "cell_type": "code",
   "execution_count": 12,
   "metadata": {},
   "outputs": [
    {
     "name": "stdout",
     "output_type": "stream",
     "text": [
      "nuber of test cases: 2\n",
      "N and k: 3 4\n",
      "N space separated integers: 1 2 5\n",
      "3\n",
      "N and k: 3 2\n",
      "N space separated integers: 2 5 5\n",
      "0\n"
     ]
    }
   ],
   "source": [
    "t = int(input(\"nuber of test cases: \"))\n",
    "while t:\n",
    "    n,k = map(int,input(\"N and k: \").split())\n",
    "    a = list(map(int,input(\"N space separated integers: \").split()))\n",
    "    if (k-min(a)) < 0:\n",
    "        print(0)\n",
    "    else:\n",
    "        print(k-min(a))\n",
    "    t-=1"
   ]
  }
 ],
 "metadata": {
  "kernelspec": {
   "display_name": "Python 3",
   "language": "python",
   "name": "python3"
  },
  "language_info": {
   "codemirror_mode": {
    "name": "ipython",
    "version": 3
   },
   "file_extension": ".py",
   "mimetype": "text/x-python",
   "name": "python",
   "nbconvert_exporter": "python",
   "pygments_lexer": "ipython3",
   "version": "3.7.3"
  }
 },
 "nbformat": 4,
 "nbformat_minor": 2
}
