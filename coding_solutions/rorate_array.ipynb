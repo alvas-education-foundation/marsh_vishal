{
 "cells": [
  {
   "cell_type": "markdown",
   "metadata": {},
   "source": [
    "# Rotate the array to the right by k steps"
   ]
  },
  {
   "cell_type": "code",
   "execution_count": 4,
   "metadata": {},
   "outputs": [
    {
     "name": "stdout",
     "output_type": "stream",
     "text": [
      "Enter array:1 2 3 4 5 6 7\n",
      "Enter K value:3\n",
      "['5', '6', '7', '1', '2', '3', '4']\n"
     ]
    }
   ],
   "source": [
    "array = input(\"Enter array:\").split()\n",
    "k = int(input(\"Enter K value:\"))\n",
    "print(array[len(array)-k:]+array[:len(array)-k])"
   ]
  }
 ],
 "metadata": {
  "kernelspec": {
   "display_name": "Python 3",
   "language": "python",
   "name": "python3"
  },
  "language_info": {
   "codemirror_mode": {
    "name": "ipython",
    "version": 3
   },
   "file_extension": ".py",
   "mimetype": "text/x-python",
   "name": "python",
   "nbconvert_exporter": "python",
   "pygments_lexer": "ipython3",
   "version": "3.7.3"
  }
 },
 "nbformat": 4,
 "nbformat_minor": 2
}
