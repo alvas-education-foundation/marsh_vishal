{
 "cells": [
  {
   "cell_type": "markdown",
   "metadata": {},
   "source": [
    "# Reverse string"
   ]
  },
  {
   "cell_type": "code",
   "execution_count": 15,
   "metadata": {},
   "outputs": [
    {
     "name": "stdout",
     "output_type": "stream",
     "text": [
      "marsh\n",
      "\n",
      "marsh\n",
      "marsh\n",
      "marsh\n",
      "marsh\n",
      "marsh\n",
      "marsh\n",
      "marsh\n",
      "marsh\n",
      "marsh\n",
      "marsh\n"
     ]
    }
   ],
   "source": [
    "import math\n",
    "str = input()\n",
    "print((f'\\n{str}')*10)"
   ]
  }
 ],
 "metadata": {
  "kernelspec": {
   "display_name": "Python 3",
   "language": "python",
   "name": "python3"
  },
  "language_info": {
   "codemirror_mode": {
    "name": "ipython",
    "version": 3
   },
   "file_extension": ".py",
   "mimetype": "text/x-python",
   "name": "python",
   "nbconvert_exporter": "python",
   "pygments_lexer": "ipython3",
   "version": "3.7.3"
  }
 },
 "nbformat": 4,
 "nbformat_minor": 2
}
